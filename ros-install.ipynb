{
 "cells": [
  {
   "cell_type": "markdown",
   "metadata": {},
   "source": [
    "## Robot Operating System\n",
    "\n",
    "=======\n",
    "\n",
    "### Installation Guide\n",
    "\n",
    "* [Select ROS Kinetic](http://wiki.ros.org/ROS/Installation)\n",
    "- Configure the repository by enabling \"restricted\", \"universe\" & \"main\"\n",
    "- set up the source list\n",
    "        sudo sh -c 'echo \"deb http://packages.ros.org/ros/ubuntu $(lsb_release -sc) main\" > /etc/apt/sources.list.d/ros-latest.list'\n",
    "- Set Up keys\n",
    "        sudo apt-key adv --keyserver hkp://ha.pool.sks-keyservers.net:80 --recv-key 421C365BD9FF1F717815A3895523BAEEB01FA116\n",
    "- Update your repository\n",
    "        sudo apt-get upgrade\n",
    "- Installation\n",
    "        sudo apt-get install ros-kinetic-desktop-full\n",
    "- Initialise rosdep\n",
    "        sudo rosdep init\n",
    "        rosdep update\n",
    "- Editing bashrc: Adding environment\n",
    "        echo \"source /opt/ros/kinetic/setup.bash\" >> ~/.bashrc\n",
    "        source ~/.bashrc\n",
    "- Getting rossinstall\n",
    "        sudo apt-get install python-rosinstall\n",
    "        \n",
    "=======\n",
    "\n",
    "### Follow the [ROS Tutorial](http://wiki.ros.org/ROS/Tutorials)"
   ]
  }
 ],
 "metadata": {
  "kernelspec": {
   "display_name": "Python 3",
   "language": "python",
   "name": "python3"
  },
  "language_info": {
   "codemirror_mode": {
    "name": "ipython",
    "version": 2
   },
   "file_extension": ".py",
   "mimetype": "text/x-python",
   "name": "python",
   "nbconvert_exporter": "python",
   "pygments_lexer": "ipython2",
   "version": "2.7.12"
  }
 },
 "nbformat": 4,
 "nbformat_minor": 2
}
